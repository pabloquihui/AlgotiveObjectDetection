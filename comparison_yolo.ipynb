{
  "nbformat": 4,
  "nbformat_minor": 0,
  "metadata": {
    "colab": {
      "provenance": [],
      "gpuType": "T4"
    },
    "kernelspec": {
      "name": "python3",
      "display_name": "Python 3"
    },
    "language_info": {
      "name": "python"
    },
    "accelerator": "GPU"
  },
  "cells": [
    {
      "cell_type": "markdown",
      "source": [
        "# Extract files"
      ],
      "metadata": {
        "id": "O_gVvvLSQtcR"
      }
    },
    {
      "cell_type": "code",
      "source": [
        "import tarfile\n",
        "\n",
        "# Specify the path to your .tar.xz file\n",
        "file_path = \"/content/challenge_videos.tar.xz\"\n",
        "\n",
        "# Open the .tar.xz file for reading\n",
        "with tarfile.open(file_path, \"r:xz\") as tar:\n",
        "    # Extract all contents of the archive to the current working directory\n",
        "    tar.extractall()\n",
        "\n",
        "print(f\"Successfully decompressed '{file_path}'\")\n"
      ],
      "metadata": {
        "id": "TEamBb0cjn_v"
      },
      "execution_count": null,
      "outputs": []
    },
    {
      "cell_type": "code",
      "source": [
        "!pip install ultralytics"
      ],
      "metadata": {
        "id": "cbsuxxaanhon"
      },
      "execution_count": null,
      "outputs": []
    },
    {
      "cell_type": "markdown",
      "source": [
        "# Create the detector object for evaluation"
      ],
      "metadata": {
        "id": "ib9uuxIbQx8y"
      }
    },
    {
      "cell_type": "code",
      "source": [
        "import cv2\n",
        "import time\n",
        "import torch\n",
        "import os\n",
        "import torchvision\n",
        "from torchvision.models.detection import SSD300_VGG16_Weights\n",
        "import torchvision.transforms as transforms\n",
        "from ultralytics import YOLO\n",
        "from tqdm import tqdm\n",
        "\n",
        "class ObjectDetector:\n",
        "    def __init__(self, model):\n",
        "        # Initialize model\n",
        "          self.model = model\n",
        "\n",
        "\n",
        "    def predict(self, image):\n",
        "        # Perform inference\n",
        "        results = self.model(image, verbose=False)\n",
        "        return results#.xyxy[0].cpu().numpy()  # Assuming single image inference\n",
        "\n",
        "# Function to evaluate model speed on a video\n",
        "def evaluate_model_speed(video_path, object_detector):\n",
        "    # Open video file\n",
        "    cap = cv2.VideoCapture(video_path)\n",
        "\n",
        "    # Get video properties\n",
        "    fps = cap.get(cv2.CAP_PROP_FPS)\n",
        "    frame_count = int(cap.get(cv2.CAP_PROP_FRAME_COUNT))\n",
        "    print(frame_count)\n",
        "    # Initialize object detector\n",
        "    detector = object_detector\n",
        "\n",
        "    # Process each frame and measure inference time\n",
        "    total_time = 0\n",
        "    transform = transforms.Compose([transforms.ToTensor(),])\n",
        "    device = torch.device('cuda' if torch.cuda.is_available() else 'cpu')\n",
        "    for _ in range(frame_count):\n",
        "        ret, frame = cap.read()\n",
        "        if not ret:\n",
        "            break\n",
        "\n",
        "        frame = cv2.resize(frame, (640, 640))\n",
        "\n",
        "        rgb_frame = cv2.cvtColor(frame, cv2.COLOR_BGR2RGB)\n",
        "        image_tensor = torch.from_numpy(rgb_frame).float()\n",
        "\n",
        "        # transform the image to tensor\n",
        "        image = transform(rgb_frame).to(device)\n",
        "        # add a batch dimension\n",
        "        image = image.unsqueeze(0)\n",
        "\n",
        "\n",
        "        start_time = time.time()\n",
        "        detections = detector.predict(image)\n",
        "        end_time = time.time()\n",
        "\n",
        "        inference_time = end_time - start_time\n",
        "        total_time += inference_time\n",
        "\n",
        "    # Calculate average inference time per frame and FPS\n",
        "    avg_inference_time = total_time / frame_count\n",
        "    avg_fps = 1 / avg_inference_time\n",
        "\n",
        "    print(f\"Video: {video_path}\")\n",
        "    print(f\"Average Inference Time per Frame: {avg_inference_time:.4f} seconds\")\n",
        "    print(f\"Average FPS: {avg_fps:.2f}\")\n",
        "    print()\n",
        "\n",
        "    # Release video capture object\n",
        "    cap.release()\n",
        "    return [avg_inference_time, avg_fps]\n",
        "\n"
      ],
      "metadata": {
        "id": "ybfum0JfvJWr"
      },
      "execution_count": 6,
      "outputs": []
    },
    {
      "cell_type": "markdown",
      "source": [
        "# Comparison of both models of YOLOv5 and v8"
      ],
      "metadata": {
        "id": "wpwCep0HQ2QQ"
      }
    },
    {
      "cell_type": "code",
      "source": [
        "# Paths to videos\n",
        "video_paths = os.listdir(\"challenge_videos\")\n",
        "# video_paths = ['video_1.mp4']\n",
        "\n",
        "models = {}\n",
        "# Load YOLOv5 model\n",
        "models['yolov5'] = YOLO('yolov5su.pt')\n",
        "\n",
        "# # # Load YOLOv8 model\n",
        "models['yolov8'] = YOLO('yolov8s.pt')\n",
        "\n",
        "# Load SSD model\n",
        "# models['ssd'] = torchvision.models.detection.ssd300_vgg16(weights=SSD300_VGG16_Weights.COCO_V1, threshold=0.5)\n",
        "\n",
        "\n",
        "results = {}\n",
        "for model in models.keys():\n",
        "  print(f\"Inference with {model}\")\n",
        "  detector = ObjectDetector(models[model])\n",
        "  inference = []\n",
        "  avg_fps = []\n",
        "  # Evaluate model speed on each video\n",
        "  for video_path in tqdm(video_paths):\n",
        "      path = f'challenge_videos/{video_path}'\n",
        "      print(f'Inference for {video_path}')\n",
        "      inf, fps = evaluate_model_speed(path, detector)\n",
        "      inference.append(inf)\n",
        "      avg_fps.append(fps)\n",
        "  results[model] = [inference, avg_fps]\n"
      ],
      "metadata": {
        "id": "nsMRNdVovMRh"
      },
      "execution_count": null,
      "outputs": []
    },
    {
      "cell_type": "code",
      "source": [
        "import numpy as np\n",
        "print(f'Inference average time for test videos using YOLOv5: ', np.mean(results['yolov5'][0][:12]))\n",
        "print(f'Inference average time for test videos using YOLOv8: ', np.mean(results['yolov8'][0][12:]))\n",
        "print(f'FPS for test videos using YOLOv5: ', np.mean(results['yolov5'][1][:12]))\n",
        "print(f'FPS for test videos using YOLOv8: ', np.mean(results['yolov8'][1][12:]))"
      ],
      "metadata": {
        "id": "JZeVFdRwwjEG"
      },
      "execution_count": null,
      "outputs": []
    }
  ]
}